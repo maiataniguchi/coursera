{
 "cells": [
  {
   "cell_type": "code",
   "execution_count": 29,
   "id": "2ce36df5",
   "metadata": {},
   "outputs": [],
   "source": [
    "import re"
   ]
  },
  {
   "cell_type": "code",
   "execution_count": 75,
   "id": "141d1dc1",
   "metadata": {},
   "outputs": [],
   "source": [
    "\n",
    "def le_assinatura():\n",
    "    '''A funcao le os valores dos tracos linguisticos do modelo e devolve uma assinatura a ser comparada com os textos fornecidos'''\n",
    "    print(\"Bem-vindo ao detector automático de COH-PIAH.\")\n",
    "    print(\"Informe a assinatura típica de um aluno infectado:\")\n",
    "\n",
    "    wal = float(input(\"Entre o tamanho médio de palavra:\"))\n",
    "    ttr = float(input(\"Entre a relação Type-Token:\"))\n",
    "    hlr = float(input(\"Entre a Razão Hapax Legomana:\"))\n",
    "    sal = float(input(\"Entre o tamanho médio de sentença:\"))\n",
    "    sac = float(input(\"Entre a complexidade média da sentença:\"))\n",
    "    pal = float(input(\"Entre o tamanho medio de frase:\"))\n",
    "\n",
    "    return [wal, ttr, hlr, sal, sac, pal]\n",
    "\n",
    "def le_textos():\n",
    "    '''A funcao le todos os textos a serem comparados e devolve uma lista contendo cada texto como um elemento'''\n",
    "    i = 1\n",
    "    textos = []\n",
    "    texto = input(\"Digite o texto \" + str(i) +\" (aperte enter para sair):\")\n",
    "    while texto:\n",
    "        textos.append(texto)\n",
    "        i += 1\n",
    "        texto = input(\"Digite o texto \" + str(i) +\" (aperte enter para sair):\")\n",
    "\n",
    "    return textos\n",
    "\n",
    "def separa_sentencas(texto):\n",
    "    '''A funcao recebe um texto e devolve uma lista das sentencas dentro do texto'''\n",
    "    sentencas = re.split(r'[.!?]+', texto)\n",
    "    if sentencas[-1] == '':\n",
    "        del sentencas[-1]\n",
    "    return sentencas\n",
    "\n",
    "def separa_frases(sentenca):\n",
    "    '''A funcao recebe uma sentenca e devolve uma lista das frases dentro da sentenca'''\n",
    "    return re.split(r'[,:;]+', sentenca)\n",
    "\n",
    "def separa_palavras(frase):\n",
    "    '''A funcao recebe uma frase e devolve uma lista das palavras dentro da frase'''\n",
    "    return frase.split()\n",
    "\n",
    "def n_palavras_unicas(lista_palavras):\n",
    "    '''Essa funcao recebe uma lista de palavras e devolve o numero de palavras que aparecem uma unica vez'''\n",
    "    freq = dict()\n",
    "    unicas = 0\n",
    "    for palavra in lista_palavras:\n",
    "        p = palavra.lower()\n",
    "        if p in freq:\n",
    "            if freq[p] == 1:\n",
    "                unicas -= 1\n",
    "            freq[p] += 1\n",
    "        else:\n",
    "            freq[p] = 1\n",
    "            unicas += 1\n",
    "\n",
    "    return unicas\n",
    "\n",
    "def n_palavras_diferentes(lista_palavras):\n",
    "    '''Essa funcao recebe uma lista de palavras e devolve o numero de palavras diferentes utilizadas'''\n",
    "    freq = dict()\n",
    "    for palavra in lista_palavras:\n",
    "        p = palavra.lower()\n",
    "        if p in freq:\n",
    "            freq[p] += 1\n",
    "        else:\n",
    "            freq[p] = 1\n",
    "\n",
    "    return len(freq)\n"
   ]
  },
  {
   "cell_type": "code",
   "execution_count": null,
   "id": "e555df53",
   "metadata": {},
   "outputs": [],
   "source": [
    "x=le_assinatura()\n"
   ]
  },
  {
   "cell_type": "code",
   "execution_count": null,
   "id": "3060841a",
   "metadata": {},
   "outputs": [],
   "source": [
    "x"
   ]
  },
  {
   "cell_type": "code",
   "execution_count": null,
   "id": "68615a3d",
   "metadata": {},
   "outputs": [],
   "source": [
    "le_textos()"
   ]
  },
  {
   "cell_type": "code",
   "execution_count": null,
   "id": "9d1a1da0",
   "metadata": {},
   "outputs": [],
   "source": [
    "tx = le_textos()\n"
   ]
  },
  {
   "cell_type": "code",
   "execution_count": null,
   "id": "08358313",
   "metadata": {},
   "outputs": [],
   "source": [
    "tx"
   ]
  },
  {
   "cell_type": "code",
   "execution_count": null,
   "id": "767cae18",
   "metadata": {},
   "outputs": [],
   "source": [
    "st = separa_sentencas(tx[0])"
   ]
  },
  {
   "cell_type": "code",
   "execution_count": null,
   "id": "ad17bc71",
   "metadata": {},
   "outputs": [],
   "source": [
    "separa_palavras(st[0])"
   ]
  },
  {
   "cell_type": "code",
   "execution_count": null,
   "id": "f9f63a02",
   "metadata": {},
   "outputs": [],
   "source": [
    "n_palavras_unicas(['eu','sou','eu','eu','não','sou'])"
   ]
  },
  {
   "cell_type": "code",
   "execution_count": null,
   "id": "cc990c1e",
   "metadata": {},
   "outputs": [],
   "source": [
    "n_palavras_diferentes(['eu','sou','eu','eu','não','sou'])"
   ]
  },
  {
   "cell_type": "code",
   "execution_count": null,
   "id": "69438b2b",
   "metadata": {},
   "outputs": [],
   "source": [
    "abs(-1)"
   ]
  },
  {
   "cell_type": "code",
   "execution_count": null,
   "id": "5df98d2b",
   "metadata": {
    "scrolled": true
   },
   "outputs": [],
   "source": []
  },
  {
   "cell_type": "code",
   "execution_count": null,
   "id": "813daf92",
   "metadata": {},
   "outputs": [],
   "source": [
    "frase = ['eu','sou','eu','eu','não','sou'] \n",
    "soma = 0\n",
    "\n",
    "for t in frase:\n",
    "    tamanho = len(t)\n",
    "    \n",
    "    soma = soma + tamanho\n",
    "    \n",
    "tamanho_medio_palavra = soma / len(frase)\n",
    "    "
   ]
  },
  {
   "cell_type": "code",
   "execution_count": null,
   "id": "917d9177",
   "metadata": {},
   "outputs": [],
   "source": [
    "tamanho_medio_palavra"
   ]
  },
  {
   "cell_type": "code",
   "execution_count": null,
   "id": "b8e49383",
   "metadata": {},
   "outputs": [],
   "source": [
    "def compara_assinatura(as_a, as_b):\n",
    "    '''IMPLEMENTAR. Essa funcao recebe duas assinaturas de texto e deve devolver o grau de similaridade nas assinaturas.'''\n",
    "    pass"
   ]
  },
  {
   "cell_type": "code",
   "execution_count": null,
   "id": "8d5376c6",
   "metadata": {},
   "outputs": [],
   "source": [
    "def calcula_assinatura(texto):\n",
    "    '''IMPLEMENTAR. Essa funcao recebe um texto e deve devolver a assinatura do texto.'''\n",
    "    pass\n"
   ]
  },
  {
   "cell_type": "code",
   "execution_count": null,
   "id": "99f5a849",
   "metadata": {},
   "outputs": [],
   "source": [
    "def avalia_textos(textos, ass_cp):\n",
    "    '''IMPLEMENTAR. Essa funcao recebe uma lista de textos e uma assinatura ass_cp e deve devolver o numero (1 a n) do texto com maior probabilidade de ter sido infectado por COH-PIAH.'''\n",
    "    pass"
   ]
  },
  {
   "cell_type": "code",
   "execution_count": 80,
   "id": "e79e0359",
   "metadata": {},
   "outputs": [],
   "source": [
    "text_1 = \"Num fabulário ainda por encontrar será um dia lida esta fábula: A uma bordadora dum país longínquo foi encomendado pela sua rainha que bordasse, sobre seda ou cetim, entre folhas, uma rosa branca. A bordadora, como era muito jovem, foi procurar por toda a parte aquela rosa branca perfeitíssima, em cuja semelhança bordasse a sua. Mas sucedia que umas rosas eram menos belas do que lhe convinha, e que outras não eram brancas como deviam ser. Gastou dias sobre dias, chorosas horas, buscando a rosa que imitasse com seda, e, como nos países longínquos nunca deixa de haver pena de morte, ela sabia bem que, pelas leis dos contos como este, não podiam deixar de a matar se ela não bordasse a rosa branca. Por fim, não tendo melhor remédio, bordou de memória a rosa que lhe haviam exigido. Depois de a bordar foi compará-la com as rosas brancas que existem realmente nas roseiras. Sucedeu que todas as rosas brancas se pareciam exactamente com a rosa que ela bordara, que cada uma delas era exactamente aquela. Ela levou o trabalho ao palácio e é de supor que casasse com o príncipe. No fabulário, onde vem, esta fábula não traz moralidade. Mesmo porque, na idade de ouro, as fábulas não tinham moralidade nenhuma.\""
   ]
  },
  {
   "cell_type": "code",
   "execution_count": 54,
   "id": "f98963e8",
   "metadata": {},
   "outputs": [
    {
     "name": "stdout",
     "output_type": "stream",
     "text": [
      "Num fabulário ainda por encontrar será um dia lida esta fábula: A uma bordadora dum país longínquo foi encomendado pela sua rainha que bordasse, sobre seda ou cetim, entre folhas, uma rosa branca. A bordadora, como era muito jovem, foi procurar por toda a parte aquela rosa branca perfeitíssima, em cuja semelhança bordasse a sua. Mas sucedia que umas rosas eram menos belas do que lhe convinha, e que outras não eram brancas como deviam ser. Gastou dias sobre dias, chorosas horas, buscando a rosa que imitasse com seda, e, como nos países longínquos nunca deixa de haver pena de morte, ela sabia bem que, pelas leis dos contos como este, não podiam deixar de a matar se ela não bordasse a rosa branca. Por fim, não tendo melhor remédio, bordou de memória a rosa que lhe haviam exigido. Depois de a bordar foi compará-la com as rosas brancas que existem realmente nas roseiras. Sucedeu que todas as rosas brancas se pareciam exactamente com a rosa que ela bordara, que cada uma delas era exactamente aquela. Ela levou o trabalho ao palácio e é de supor que casasse com o príncipe. No fabulário, onde vem, esta fábula não traz moralidade. Mesmo porque, na idade de ouro, as fábulas não tinham moralidade nenhuma.\n"
     ]
    }
   ],
   "source": [
    "print(text_1)"
   ]
  },
  {
   "cell_type": "markdown",
   "id": "2e2fcd75",
   "metadata": {},
   "source": [
    "## Recebe texto e transforma em palavras"
   ]
  },
  {
   "cell_type": "code",
   "execution_count": 34,
   "id": "284283fa",
   "metadata": {},
   "outputs": [],
   "source": [
    "lista_sentencas = separa_sentencas(text_1)"
   ]
  },
  {
   "cell_type": "code",
   "execution_count": 38,
   "id": "3e864ff6",
   "metadata": {},
   "outputs": [],
   "source": [
    "lista_frases = list()\n",
    "\n",
    "for sentenca in lista_sentencas:\n",
    "    frase = separa_frases(sentenca)\n",
    "    lista_frases = lista_frases + frase"
   ]
  },
  {
   "cell_type": "code",
   "execution_count": 42,
   "id": "87f4b127",
   "metadata": {},
   "outputs": [],
   "source": [
    "lista_palavras = list()\n",
    "\n",
    "for frase in lista_frases:\n",
    "    palavra = separa_palavras(frase)\n",
    "    lista_palavras = lista_palavras + palavra"
   ]
  },
  {
   "cell_type": "markdown",
   "id": "4d44cbaf",
   "metadata": {},
   "source": [
    "# Calcula assinatura"
   ]
  },
  {
   "cell_type": "code",
   "execution_count": 44,
   "id": "4788c37b",
   "metadata": {},
   "outputs": [],
   "source": [
    "n_palavras = len(lista_palavras)"
   ]
  },
  {
   "cell_type": "code",
   "execution_count": 45,
   "id": "6d94564c",
   "metadata": {},
   "outputs": [
    {
     "data": {
      "text/plain": [
       "212"
      ]
     },
     "execution_count": 45,
     "metadata": {},
     "output_type": "execute_result"
    }
   ],
   "source": [
    "n_palavras"
   ]
  },
  {
   "cell_type": "markdown",
   "id": "640bc977",
   "metadata": {},
   "source": [
    "## Tamanho médio de palavra: Média simples do número de caracteres por palavra."
   ]
  },
  {
   "cell_type": "code",
   "execution_count": 46,
   "id": "7c5ed85c",
   "metadata": {},
   "outputs": [],
   "source": [
    "lista_n_caracter = list()\n",
    "\n",
    "for palavra in lista_palavras:\n",
    "    n_caracter = len(palavra)\n",
    "    lista_n_caracter.append(n_caracter)\n",
    "    "
   ]
  },
  {
   "cell_type": "code",
   "execution_count": 49,
   "id": "6f2e1d53",
   "metadata": {},
   "outputs": [
    {
     "data": {
      "text/plain": [
       "969"
      ]
     },
     "execution_count": 49,
     "metadata": {},
     "output_type": "execute_result"
    }
   ],
   "source": [
    "sum(lista_n_caracter) "
   ]
  },
  {
   "cell_type": "code",
   "execution_count": 50,
   "id": "a6f6fa44",
   "metadata": {},
   "outputs": [],
   "source": [
    "soma_n_caracter = sum(lista_n_caracter)"
   ]
  },
  {
   "cell_type": "code",
   "execution_count": 51,
   "id": "f6dfea9d",
   "metadata": {},
   "outputs": [
    {
     "name": "stdout",
     "output_type": "stream",
     "text": [
      "4.570754716981132\n"
     ]
    }
   ],
   "source": [
    "tamanho_medio_palavra = soma_n_caracter / n_palavras\n",
    "print(tamanho_medio_palavra)"
   ]
  },
  {
   "cell_type": "markdown",
   "id": "08fc47e4",
   "metadata": {},
   "source": [
    "## Relação Type-Token: Número de palavras diferentes utilizadas em um texto divididas pelo total de palavras."
   ]
  },
  {
   "cell_type": "code",
   "execution_count": 52,
   "id": "420a2c2c",
   "metadata": {},
   "outputs": [
    {
     "data": {
      "text/plain": [
       "133"
      ]
     },
     "execution_count": 52,
     "metadata": {},
     "output_type": "execute_result"
    }
   ],
   "source": [
    "n_diferente_palavra = n_palavras_diferentes(lista_palavras)\n",
    "n_diferente_palavra"
   ]
  },
  {
   "cell_type": "code",
   "execution_count": 53,
   "id": "31306434",
   "metadata": {},
   "outputs": [
    {
     "data": {
      "text/plain": [
       "0.6273584905660378"
      ]
     },
     "execution_count": 53,
     "metadata": {},
     "output_type": "execute_result"
    }
   ],
   "source": [
    "type_token = n_diferente_palavra / n_palavras\n",
    "type_token"
   ]
  },
  {
   "cell_type": "markdown",
   "id": "29dba730",
   "metadata": {},
   "source": [
    "## Razão Hapax Legomana: Número de palavras utilizadas uma única vez dividido pelo número total de palavras."
   ]
  },
  {
   "cell_type": "code",
   "execution_count": 59,
   "id": "d80911d2",
   "metadata": {},
   "outputs": [
    {
     "data": {
      "text/plain": [
       "100"
      ]
     },
     "execution_count": 59,
     "metadata": {},
     "output_type": "execute_result"
    }
   ],
   "source": [
    "unica_vez = n_palavras_unicas(lista_palavras)\n",
    "unica_vez"
   ]
  },
  {
   "cell_type": "code",
   "execution_count": 61,
   "id": "2ec809a7",
   "metadata": {},
   "outputs": [
    {
     "data": {
      "text/plain": [
       "0.4716981132075472"
      ]
     },
     "execution_count": 61,
     "metadata": {},
     "output_type": "execute_result"
    }
   ],
   "source": [
    "hapax_legomana = unica_vez / n_palavras\n",
    "hapax_legomana"
   ]
  },
  {
   "cell_type": "markdown",
   "id": "1caf7e02",
   "metadata": {},
   "source": [
    "## Tamanho médio de sentença: Média simples do número de caracteres por sentença."
   ]
  },
  {
   "cell_type": "code",
   "execution_count": 86,
   "id": "d896b7cd",
   "metadata": {},
   "outputs": [],
   "source": [
    "lista_sentencas = separa_sentencas(text_1)"
   ]
  },
  {
   "cell_type": "code",
   "execution_count": 87,
   "id": "a04d7d07",
   "metadata": {},
   "outputs": [],
   "source": [
    "lista_n_caracteres = list()\n",
    "\n",
    "for caracter in lista_sentencas:\n",
    "    n_caracteres = len(caracter)\n",
    "    lista_n_caracteres.append(n_caracteres)"
   ]
  },
  {
   "cell_type": "code",
   "execution_count": 89,
   "id": "51d6cd79",
   "metadata": {},
   "outputs": [
    {
     "ename": "TypeError",
     "evalue": "unsupported operand type(s) for /: 'int' and 'list'",
     "output_type": "error",
     "traceback": [
      "\u001b[0;31m---------------------------------------------------------------------------\u001b[0m",
      "\u001b[0;31mTypeError\u001b[0m                                 Traceback (most recent call last)",
      "\u001b[0;32m/tmp/ipykernel_4900/1721637978.py\u001b[0m in \u001b[0;36m<module>\u001b[0;34m\u001b[0m\n\u001b[0;32m----> 1\u001b[0;31m \u001b[0mmedia_caracter_sentenca\u001b[0m \u001b[0;34m=\u001b[0m \u001b[0mn_caracteres\u001b[0m \u001b[0;34m/\u001b[0m \u001b[0mlista_sentencas\u001b[0m\u001b[0;34m\u001b[0m\u001b[0;34m\u001b[0m\u001b[0m\n\u001b[0m\u001b[1;32m      2\u001b[0m \u001b[0mmedia_caracter_sentenca\u001b[0m\u001b[0;34m\u001b[0m\u001b[0;34m\u001b[0m\u001b[0m\n",
      "\u001b[0;31mTypeError\u001b[0m: unsupported operand type(s) for /: 'int' and 'list'"
     ]
    }
   ],
   "source": [
    "media_caracter_sentenca =  / lista_sentencas\n",
    "media_caracter_sentenca"
   ]
  },
  {
   "cell_type": "markdown",
   "id": "b77fa021",
   "metadata": {},
   "source": [
    "## Complexidade de sentença: Média simples do número de frases por sentença."
   ]
  },
  {
   "cell_type": "code",
   "execution_count": null,
   "id": "20ff50b4",
   "metadata": {},
   "outputs": [],
   "source": []
  },
  {
   "cell_type": "markdown",
   "id": "0c9996a3",
   "metadata": {},
   "source": [
    "## Tamanho médio de frase: Média simples do número de caracteres por frase."
   ]
  },
  {
   "cell_type": "code",
   "execution_count": null,
   "id": "7fe5090f",
   "metadata": {},
   "outputs": [],
   "source": []
  }
 ],
 "metadata": {
  "kernelspec": {
   "display_name": "Python 3 (ipykernel)",
   "language": "python",
   "name": "python3"
  },
  "language_info": {
   "codemirror_mode": {
    "name": "ipython",
    "version": 3
   },
   "file_extension": ".py",
   "mimetype": "text/x-python",
   "name": "python",
   "nbconvert_exporter": "python",
   "pygments_lexer": "ipython3",
   "version": "3.7.15"
  }
 },
 "nbformat": 4,
 "nbformat_minor": 5
}
