{
  "cells": [
    {
      "cell_type": "markdown",
      "metadata": {
        "id": "cVUN5nOoreBp"
      },
      "source": [
        "<img src=\"https://raw.githubusercontent.com/alan-barzilay/NLPortugues/master/imagens/logo_nlportugues.png\"   width=\"150\" align=\"right\">\n",
        "\n",
        "# Lista 3 - Embeddings"
      ]
    },
    {
      "cell_type": "markdown",
      "metadata": {
        "id": "XG9SjyX1wIBQ"
      },
      "source": [
        "______________"
      ]
    },
    {
      "cell_type": "markdown",
      "metadata": {
        "id": "tofD9ax0reBr"
      },
      "source": [
        "\n",
        "O objetivo desta lista é fazer com que vocês treinem um modelo de análise de sentimentos utilizando um embedding. O modelo final será criado na seção \"montando o modelo\", mas até lá vamos passar pelas seguintes etapas:  \n",
        " - Importando os dados como um dataframe\n",
        " - Pré Processamento\n",
        " - Separando em teste e treino\n",
        " - Tokenizando\n",
        "\n",
        "\n",
        "Após montar e treinar seu modelo você tambem poderá fazer uma questão extra para ganhar nota extra nessa lista, deixar de fazer esse exercicio não prejudicará sua nota.\n",
        "\n"
      ]
    },
    {
      "cell_type": "code",
      "execution_count": 1,
      "metadata": {
        "id": "u3oK8n3CreBs"
      },
      "outputs": [
        {
          "name": "stderr",
          "output_type": "stream",
          "text": [
            "2024-08-24 20:31:05.840061: E external/local_xla/xla/stream_executor/cuda/cuda_fft.cc:485] Unable to register cuFFT factory: Attempting to register factory for plugin cuFFT when one has already been registered\n",
            "2024-08-24 20:31:05.855892: E external/local_xla/xla/stream_executor/cuda/cuda_dnn.cc:8454] Unable to register cuDNN factory: Attempting to register factory for plugin cuDNN when one has already been registered\n",
            "2024-08-24 20:31:05.861283: E external/local_xla/xla/stream_executor/cuda/cuda_blas.cc:1452] Unable to register cuBLAS factory: Attempting to register factory for plugin cuBLAS when one has already been registered\n",
            "2024-08-24 20:31:05.875255: I tensorflow/core/platform/cpu_feature_guard.cc:210] This TensorFlow binary is optimized to use available CPU instructions in performance-critical operations.\n",
            "To enable the following instructions: AVX2 FMA, in other operations, rebuild TensorFlow with the appropriate compiler flags.\n",
            "2024-08-24 20:31:06.802751: W tensorflow/compiler/tf2tensorrt/utils/py_utils.cc:38] TF-TRT Warning: Could not find TensorRT\n"
          ]
        }
      ],
      "source": [
        "# Imports\n",
        "import numpy as np\n",
        "import pandas as pd\n",
        "import tensorflow as tf\n",
        "from tensorflow.keras.preprocessing.text import Tokenizer\n",
        "from tensorflow.keras.preprocessing.sequence import pad_sequences\n",
        "from tensorflow.keras.models import Sequential\n",
        "from tensorflow.keras.layers import Embedding, Conv1D, GlobalMaxPooling1D, Dense, Dropout\n",
        "from sklearn.decomposition import PCA\n",
        "import matplotlib.pyplot as plt"
      ]
    },
    {
      "cell_type": "markdown",
      "metadata": {
        "id": "PSvZc5c_reBv"
      },
      "source": [
        "### Importando os dados como um dataframe\n",
        "\n",
        "Para esta lista nós utilizaremos um recorte do dataset **B2W-Reviews01** que consiste em avaliações de mais de 130k compras online no site Americanas.com e [esta disponivel no github](https://github.com/b2wdigital/b2w-reviews01) sob a licensa CC BY-NC-SA 4.01."
      ]
    },
    {
      "cell_type": "code",
      "execution_count": 2,
      "metadata": {
        "colab": {
          "base_uri": "https://localhost:8080/",
          "height": 591
        },
        "id": "8eQc7C97reBv",
        "outputId": "a1bc00b6-491a-4300-c193-de489bb4bbf8",
        "scrolled": true
      },
      "outputs": [
        {
          "data": {
            "text/html": [
              "<div>\n",
              "<style scoped>\n",
              "    .dataframe tbody tr th:only-of-type {\n",
              "        vertical-align: middle;\n",
              "    }\n",
              "\n",
              "    .dataframe tbody tr th {\n",
              "        vertical-align: top;\n",
              "    }\n",
              "\n",
              "    .dataframe thead th {\n",
              "        text-align: right;\n",
              "    }\n",
              "</style>\n",
              "<table border=\"1\" class=\"dataframe\">\n",
              "  <thead>\n",
              "    <tr style=\"text-align: right;\">\n",
              "      <th></th>\n",
              "      <th>submission_date</th>\n",
              "      <th>reviewer_id</th>\n",
              "      <th>product_id</th>\n",
              "      <th>product_name</th>\n",
              "      <th>product_brand</th>\n",
              "      <th>site_category_lv1</th>\n",
              "      <th>site_category_lv2</th>\n",
              "      <th>review_title</th>\n",
              "      <th>overall_rating</th>\n",
              "      <th>recommend_to_a_friend</th>\n",
              "      <th>review_text</th>\n",
              "      <th>reviewer_birth_year</th>\n",
              "      <th>reviewer_gender</th>\n",
              "      <th>reviewer_state</th>\n",
              "      <th>Unnamed: 14</th>\n",
              "      <th>Unnamed: 15</th>\n",
              "      <th>Unnamed: 16</th>\n",
              "      <th>Unnamed: 17</th>\n",
              "      <th>Unnamed: 18</th>\n",
              "    </tr>\n",
              "  </thead>\n",
              "  <tbody>\n",
              "    <tr>\n",
              "      <th>0</th>\n",
              "      <td>2018-01-01 00:11:28</td>\n",
              "      <td>d0fb1ca69422530334178f5c8624aa7a99da47907c44de...</td>\n",
              "      <td>132532965</td>\n",
              "      <td>Notebook Asus Vivobook Max X541NA-GO472T Intel...</td>\n",
              "      <td>NaN</td>\n",
              "      <td>Informática</td>\n",
              "      <td>Notebook</td>\n",
              "      <td>Bom</td>\n",
              "      <td>4</td>\n",
              "      <td>Yes</td>\n",
              "      <td>Estou contente com a compra entrega rápida o ú...</td>\n",
              "      <td>1958</td>\n",
              "      <td>F</td>\n",
              "      <td>RJ</td>\n",
              "      <td>NaN</td>\n",
              "      <td>NaN</td>\n",
              "      <td>NaN</td>\n",
              "      <td>NaN</td>\n",
              "      <td>NaN</td>\n",
              "    </tr>\n",
              "    <tr>\n",
              "      <th>1</th>\n",
              "      <td>2018-01-01 00:13:48</td>\n",
              "      <td>014d6dc5a10aed1ff1e6f349fb2b059a2d3de511c7538a...</td>\n",
              "      <td>22562178</td>\n",
              "      <td>Copo Acrílico Com Canudo 500ml Rocie</td>\n",
              "      <td>NaN</td>\n",
              "      <td>Utilidades Domésticas</td>\n",
              "      <td>Copos, Taças e Canecas</td>\n",
              "      <td>Preço imbatível, ótima qualidade</td>\n",
              "      <td>4</td>\n",
              "      <td>Yes</td>\n",
              "      <td>Por apenas R$1994.20,eu consegui comprar esse ...</td>\n",
              "      <td>1996</td>\n",
              "      <td>M</td>\n",
              "      <td>SC</td>\n",
              "      <td>NaN</td>\n",
              "      <td>NaN</td>\n",
              "      <td>NaN</td>\n",
              "      <td>NaN</td>\n",
              "      <td>NaN</td>\n",
              "    </tr>\n",
              "    <tr>\n",
              "      <th>2</th>\n",
              "      <td>2018-01-01 00:26:02</td>\n",
              "      <td>44f2c8edd93471926fff601274b8b2b5c4824e386ae4f2...</td>\n",
              "      <td>113022329</td>\n",
              "      <td>Panela de Pressão Elétrica Philips Walita Dail...</td>\n",
              "      <td>philips walita</td>\n",
              "      <td>Eletroportáteis</td>\n",
              "      <td>Panela Elétrica</td>\n",
              "      <td>ATENDE TODAS AS EXPECTATIVA.</td>\n",
              "      <td>4</td>\n",
              "      <td>Yes</td>\n",
              "      <td>SUPERA EM AGILIDADE E PRATICIDADE OUTRAS PANEL...</td>\n",
              "      <td>1984</td>\n",
              "      <td>M</td>\n",
              "      <td>SP</td>\n",
              "      <td>NaN</td>\n",
              "      <td>NaN</td>\n",
              "      <td>NaN</td>\n",
              "      <td>NaN</td>\n",
              "      <td>NaN</td>\n",
              "    </tr>\n",
              "    <tr>\n",
              "      <th>3</th>\n",
              "      <td>2018-01-01 00:35:54</td>\n",
              "      <td>ce741665c1764ab2d77539e18d0e4f66dde6213c9f0863...</td>\n",
              "      <td>113851581</td>\n",
              "      <td>Betoneira Columbus - Roma Brinquedos</td>\n",
              "      <td>roma jensen</td>\n",
              "      <td>Brinquedos</td>\n",
              "      <td>Veículos de Brinquedo</td>\n",
              "      <td>presente mais que desejado</td>\n",
              "      <td>4</td>\n",
              "      <td>Yes</td>\n",
              "      <td>MEU FILHO AMOU! PARECE DE VERDADE COM TANTOS D...</td>\n",
              "      <td>1985</td>\n",
              "      <td>F</td>\n",
              "      <td>SP</td>\n",
              "      <td>NaN</td>\n",
              "      <td>NaN</td>\n",
              "      <td>NaN</td>\n",
              "      <td>NaN</td>\n",
              "      <td>NaN</td>\n",
              "    </tr>\n",
              "    <tr>\n",
              "      <th>4</th>\n",
              "      <td>2018-01-01 01:00:28</td>\n",
              "      <td>7d7b6b18dda804a897359276cef0ca252f9932bf4b5c8e...</td>\n",
              "      <td>131788803</td>\n",
              "      <td>Smart TV LED 43\" LG 43UJ6525 Ultra HD 4K com C...</td>\n",
              "      <td>lg</td>\n",
              "      <td>TV e Home Theater</td>\n",
              "      <td>TV</td>\n",
              "      <td>Sem duvidas, excelente</td>\n",
              "      <td>5</td>\n",
              "      <td>Yes</td>\n",
              "      <td>A entrega foi no prazo, as americanas estão de...</td>\n",
              "      <td>1994</td>\n",
              "      <td>M</td>\n",
              "      <td>MG</td>\n",
              "      <td>NaN</td>\n",
              "      <td>NaN</td>\n",
              "      <td>NaN</td>\n",
              "      <td>NaN</td>\n",
              "      <td>NaN</td>\n",
              "    </tr>\n",
              "  </tbody>\n",
              "</table>\n",
              "</div>"
            ],
            "text/plain": [
              "       submission_date                                        reviewer_id  \\\n",
              "0  2018-01-01 00:11:28  d0fb1ca69422530334178f5c8624aa7a99da47907c44de...   \n",
              "1  2018-01-01 00:13:48  014d6dc5a10aed1ff1e6f349fb2b059a2d3de511c7538a...   \n",
              "2  2018-01-01 00:26:02  44f2c8edd93471926fff601274b8b2b5c4824e386ae4f2...   \n",
              "3  2018-01-01 00:35:54  ce741665c1764ab2d77539e18d0e4f66dde6213c9f0863...   \n",
              "4  2018-01-01 01:00:28  7d7b6b18dda804a897359276cef0ca252f9932bf4b5c8e...   \n",
              "\n",
              "   product_id                                       product_name  \\\n",
              "0   132532965  Notebook Asus Vivobook Max X541NA-GO472T Intel...   \n",
              "1    22562178               Copo Acrílico Com Canudo 500ml Rocie   \n",
              "2   113022329  Panela de Pressão Elétrica Philips Walita Dail...   \n",
              "3   113851581               Betoneira Columbus - Roma Brinquedos   \n",
              "4   131788803  Smart TV LED 43\" LG 43UJ6525 Ultra HD 4K com C...   \n",
              "\n",
              "    product_brand      site_category_lv1       site_category_lv2  \\\n",
              "0             NaN            Informática                Notebook   \n",
              "1             NaN  Utilidades Domésticas  Copos, Taças e Canecas   \n",
              "2  philips walita        Eletroportáteis         Panela Elétrica   \n",
              "3     roma jensen             Brinquedos   Veículos de Brinquedo   \n",
              "4              lg      TV e Home Theater                      TV   \n",
              "\n",
              "                       review_title  overall_rating recommend_to_a_friend  \\\n",
              "0                               Bom               4                   Yes   \n",
              "1  Preço imbatível, ótima qualidade               4                   Yes   \n",
              "2      ATENDE TODAS AS EXPECTATIVA.               4                   Yes   \n",
              "3        presente mais que desejado               4                   Yes   \n",
              "4            Sem duvidas, excelente               5                   Yes   \n",
              "\n",
              "                                         review_text reviewer_birth_year  \\\n",
              "0  Estou contente com a compra entrega rápida o ú...                1958   \n",
              "1  Por apenas R$1994.20,eu consegui comprar esse ...                1996   \n",
              "2  SUPERA EM AGILIDADE E PRATICIDADE OUTRAS PANEL...                1984   \n",
              "3  MEU FILHO AMOU! PARECE DE VERDADE COM TANTOS D...                1985   \n",
              "4  A entrega foi no prazo, as americanas estão de...                1994   \n",
              "\n",
              "  reviewer_gender reviewer_state Unnamed: 14 Unnamed: 15 Unnamed: 16  \\\n",
              "0               F             RJ         NaN         NaN         NaN   \n",
              "1               M             SC         NaN         NaN         NaN   \n",
              "2               M             SP         NaN         NaN         NaN   \n",
              "3               F             SP         NaN         NaN         NaN   \n",
              "4               M             MG         NaN         NaN         NaN   \n",
              "\n",
              "  Unnamed: 17 Unnamed: 18  \n",
              "0         NaN         NaN  \n",
              "1         NaN         NaN  \n",
              "2         NaN         NaN  \n",
              "3         NaN         NaN  \n",
              "4         NaN         NaN  "
            ]
          },
          "execution_count": 2,
          "metadata": {},
          "output_type": "execute_result"
        }
      ],
      "source": [
        "df = pd.read_csv('b2w-10k.csv')\n",
        "df.head()"
      ]
    },
    {
      "cell_type": "markdown",
      "metadata": {
        "id": "2Ar4LC7preBx"
      },
      "source": [
        "\n",
        "### Pré-processamento\n",
        "Seria util nos livrarmos das colunas que não são relevantes para o nosso problema e tambem verificar se não tem nada de esquisito nas colunas que vamos utilizar.\n",
        "Por exemplo, se fossemos utilizar a coluna \"reviewer_gender\" nós precisariamos nos livrar desses valores esquisitos:"
      ]
    },
    {
      "cell_type": "markdown",
      "metadata": {
        "id": "nWgtDYBLreBy"
      },
      "source": [
        "## <font color='blue'>Questão 1 </font>\n",
        "\n",
        "a) Selecione apenas as colunas relevantes: \"review_text\" e \"recommend_to_a_friend\".\n",
        "\n",
        "b) Converta a coluna \"recommend_to_a_friend\" de uma coluna de `str` para uma coluna de `int`:\n",
        "\n",
        "- \"Yes\"-> 1\n",
        "- \"No\" -> 0\n"
      ]
    },
    {
      "cell_type": "code",
      "execution_count": 3,
      "metadata": {
        "colab": {
          "base_uri": "https://localhost:8080/"
        },
        "id": "edGqUSKEreBz",
        "outputId": "d9443ef6-9b8d-44ea-a3a2-5f496bf8b55b"
      },
      "outputs": [
        {
          "data": {
            "text/html": [
              "<div>\n",
              "<style scoped>\n",
              "    .dataframe tbody tr th:only-of-type {\n",
              "        vertical-align: middle;\n",
              "    }\n",
              "\n",
              "    .dataframe tbody tr th {\n",
              "        vertical-align: top;\n",
              "    }\n",
              "\n",
              "    .dataframe thead th {\n",
              "        text-align: right;\n",
              "    }\n",
              "</style>\n",
              "<table border=\"1\" class=\"dataframe\">\n",
              "  <thead>\n",
              "    <tr style=\"text-align: right;\">\n",
              "      <th></th>\n",
              "      <th>review_text</th>\n",
              "      <th>recommend_to_a_friend</th>\n",
              "    </tr>\n",
              "  </thead>\n",
              "  <tbody>\n",
              "    <tr>\n",
              "      <th>0</th>\n",
              "      <td>Estou contente com a compra entrega rápida o ú...</td>\n",
              "      <td>1</td>\n",
              "    </tr>\n",
              "    <tr>\n",
              "      <th>1</th>\n",
              "      <td>Por apenas R$1994.20,eu consegui comprar esse ...</td>\n",
              "      <td>1</td>\n",
              "    </tr>\n",
              "    <tr>\n",
              "      <th>2</th>\n",
              "      <td>SUPERA EM AGILIDADE E PRATICIDADE OUTRAS PANEL...</td>\n",
              "      <td>1</td>\n",
              "    </tr>\n",
              "    <tr>\n",
              "      <th>3</th>\n",
              "      <td>MEU FILHO AMOU! PARECE DE VERDADE COM TANTOS D...</td>\n",
              "      <td>1</td>\n",
              "    </tr>\n",
              "    <tr>\n",
              "      <th>4</th>\n",
              "      <td>A entrega foi no prazo, as americanas estão de...</td>\n",
              "      <td>1</td>\n",
              "    </tr>\n",
              "    <tr>\n",
              "      <th>...</th>\n",
              "      <td>...</td>\n",
              "      <td>...</td>\n",
              "    </tr>\n",
              "    <tr>\n",
              "      <th>9994</th>\n",
              "      <td>Celular muito rápido, com processador e armaze...</td>\n",
              "      <td>1</td>\n",
              "    </tr>\n",
              "    <tr>\n",
              "      <th>9995</th>\n",
              "      <td>achei o produto muito frágil, o material veio ...</td>\n",
              "      <td>0</td>\n",
              "    </tr>\n",
              "    <tr>\n",
              "      <th>9996</th>\n",
              "      <td>Uma porcaria pois ñ recebi ñ recomendo pra nin...</td>\n",
              "      <td>0</td>\n",
              "    </tr>\n",
              "    <tr>\n",
              "      <th>9997</th>\n",
              "      <td>Maquina excelente,super pratica. recomendo.ent...</td>\n",
              "      <td>1</td>\n",
              "    </tr>\n",
              "    <tr>\n",
              "      <th>9998</th>\n",
              "      <td>Agradeço pelo compromisso, obrigado. ,...........</td>\n",
              "      <td>1</td>\n",
              "    </tr>\n",
              "  </tbody>\n",
              "</table>\n",
              "<p>9999 rows × 2 columns</p>\n",
              "</div>"
            ],
            "text/plain": [
              "                                            review_text  recommend_to_a_friend\n",
              "0     Estou contente com a compra entrega rápida o ú...                      1\n",
              "1     Por apenas R$1994.20,eu consegui comprar esse ...                      1\n",
              "2     SUPERA EM AGILIDADE E PRATICIDADE OUTRAS PANEL...                      1\n",
              "3     MEU FILHO AMOU! PARECE DE VERDADE COM TANTOS D...                      1\n",
              "4     A entrega foi no prazo, as americanas estão de...                      1\n",
              "...                                                 ...                    ...\n",
              "9994  Celular muito rápido, com processador e armaze...                      1\n",
              "9995  achei o produto muito frágil, o material veio ...                      0\n",
              "9996  Uma porcaria pois ñ recebi ñ recomendo pra nin...                      0\n",
              "9997  Maquina excelente,super pratica. recomendo.ent...                      1\n",
              "9998  Agradeço pelo compromisso, obrigado. ,...........                      1\n",
              "\n",
              "[9999 rows x 2 columns]"
            ]
          },
          "execution_count": 3,
          "metadata": {},
          "output_type": "execute_result"
        }
      ],
      "source": [
        "df = df[['review_text', 'recommend_to_a_friend']]\n",
        "df['recommend_to_a_friend'] = df['recommend_to_a_friend'].map({'Yes': 1, 'No': 0})\n",
        "df.dropna(subset=['review_text', 'recommend_to_a_friend'], inplace=True)\n",
        "df"
      ]
    },
    {
      "cell_type": "markdown",
      "metadata": {
        "id": "ElE30MVRreB0"
      },
      "source": [
        "### Separando em teste e treino\n",
        "## <font color='blue'>Questão 2 </font>\n",
        "\n",
        "Agora com o dataset já pré-processado, separe o em 2 partes, um conjunto de teste e um conjunto de treino. Novamente você pode utilizar a função [train_test_split()](https://scikit-learn.org/stable/modules/generated/sklearn.model_selection.train_test_split.html) do Scikit-Learn como na lista passada."
      ]
    },
    {
      "cell_type": "code",
      "execution_count": 6,
      "metadata": {
        "colab": {
          "base_uri": "https://localhost:8080/"
        },
        "id": "5Xi7ubSdreB0",
        "outputId": "2bf13968-1af8-4b98-9a9e-856f3d5da067"
      },
      "outputs": [
        {
          "name": "stdout",
          "output_type": "stream",
          "text": [
            "Conjunto de treino: 7499 exemplos\n",
            "Conjunto de teste: 2500 exemplos\n"
          ]
        }
      ],
      "source": [
        "from sklearn.model_selection import train_test_split\n",
        "\n",
        "max_features = 15000  # Limite de palavras no vocabulário\n",
        "max_len = 50  # Baseado no histograma, ajustamos o comprimento dos reviews para 50 tokens\n",
        "\n",
        "X_train, X_test, y_train, y_test = train_test_split(df['review_text'],\n",
        "                                                    df['recommend_to_a_friend'],\n",
        "                                                    test_size=0.25,\n",
        "                                                    random_state=42)\n",
        "\n",
        "print(f\"Conjunto de treino: {len(X_train)} exemplos\")\n",
        "print(f\"Conjunto de teste: {len(X_test)} exemplos\")"
      ]
    },
    {
      "cell_type": "markdown",
      "metadata": {
        "id": "aV3NdZ6nreB1"
      },
      "source": [
        "### Tokenizando\n",
        "\n",
        "Para alimentarmos os reviews a camada de embedding nós precisamos quebrar cada review em uma serie de tokens. Existem diversas maneiras de se realizar isso e poderiamos até mesmo usar outras bibliotecas como o spaCy.\n",
        "\n",
        "Por exemplo, o objeto [`Tokenizer`](https://www.tensorflow.org/api_docs/python/tf/keras/preprocessing/text/Tokenizer) oferece um método `tokenize` para quebrar as palavras em tokens individuais ao mesmo tempo que filtra caracteres indesejados (por default os caracteres filtrados são: !\"#$\\%&()*+,-./:;<=>?@[\\\\]^_\\`{|}~\\t\\n).\n",
        "\n",
        "\n",
        "Para essa lista utilizaremos a camada [`TextVectorization`](https://www.tensorflow.org/api_docs/python/tf/keras/layers/experimental/preprocessing/TextVectorization) para automaticamente passar os reviews para caixa-baixa, extrair caracteres especiais e tokenizar as palavras de maneira a serem passadas para a camada de embedding. Ao tornarmos a etapa de tokenização uma camada de rede neural nós podemos incluir esse processamento dos reviews no proprio modelo.\n"
      ]
    },
    {
      "cell_type": "markdown",
      "metadata": {
        "id": "LcXwfvA7reB1"
      },
      "source": [
        "## <font color='blue'>Questão 3 </font>\n",
        "Utilizando a camada `TextVectorization` tokenize os inputs.\n",
        "Declare a camada e então chame a função `adapt()` para adequar o seu vocabulário aos reviews.\n",
        "\n",
        "Não se esqueça de se certificar que todas os reviews tenham o mesmo comprimento, seja por meio do uso de padding, truncamento ou uma mistura dos dois. Plotamos um histograma do comprimento dos reviews para lhe auxiliar nessa decisão."
      ]
    },
    {
      "cell_type": "code",
      "execution_count": 7,
      "metadata": {
        "colab": {
          "base_uri": "https://localhost:8080/"
        },
        "id": "eJz5VpCsreB2",
        "outputId": "ac5348c3-1829-45ee-8a1b-c6c90e2bd4e5"
      },
      "outputs": [
        {
          "name": "stdout",
          "output_type": "stream",
          "text": [
            "Tamanho do conjunto de treino tokenizado: (7499, 50)\n",
            "Tamanho do conjunto de teste tokenizado: (2500, 50)\n"
          ]
        }
      ],
      "source": [
        "import tensorflow as tf\n",
        "import matplotlib.pyplot as plt\n",
        "\n",
        "vectorize_layer = tf.keras.layers.TextVectorization(\n",
        "    max_tokens=max_features,  # Limite de palavras\n",
        "    output_mode='int',  # Saída será uma sequência de inteiros\n",
        "    output_sequence_length=max_len  # Comprimento fixo para todas as sequências\n",
        ")\n",
        "\n",
        "# Adaptar a camada ao vocabulário do conjunto de treino\n",
        "vectorize_layer.adapt(X_train.values)\n",
        "\n",
        "# Aplicar a tokenização e o padding/truncamento no conjunto de treino e teste\n",
        "X_train_vectorized = vectorize_layer(X_train.values)\n",
        "X_test_vectorized = vectorize_layer(X_test.values)\n",
        "\n",
        "# Verificação dos shapes (tamanho) das entradas após tokenização\n",
        "print(f\"Tamanho do conjunto de treino tokenizado: {X_train_vectorized.shape}\")\n",
        "print(f\"Tamanho do conjunto de teste tokenizado: {X_test_vectorized.shape}\")"
      ]
    },
    {
      "cell_type": "markdown",
      "metadata": {
        "id": "As4YFKNareB3"
      },
      "source": [
        "### Montando o modelo\n",
        "\n",
        "Agora vamos juntar a camada do tokenizador a nossa camada [Embedding](https://www.tensorflow.org/api_docs/python/tf/keras/layers/Embedding) e definir o resto de nosso modelo.\n",
        "\n",
        "##  <font color='blue'>Questão 4 </font>\n",
        "\n",
        "Defina seu modelo.\n",
        "\n",
        "Como analise de sentimentos pode ser visto como um problema de classificação, é interessante também registrar algumas métricas como acurácia `metrics=[\"acc\"]` .\n",
        "\n",
        "Seu modelo deve começar com a seguinte estrutura:\n",
        " - Camada de Input\n",
        " - Camada de Tokenização\n",
        " - Camada de Embedding\n",
        "\n",
        "Já definimos as camadas seguintes da rede por você.\n",
        "\n",
        "Atenção a dimensão do input da camada de embedding, lembre se que < OOV > e < PAD > possuem seus próprios tokens.\n"
      ]
    },
    {
      "cell_type": "code",
      "execution_count": 8,
      "metadata": {
        "colab": {
          "base_uri": "https://localhost:8080/",
          "height": 424
        },
        "id": "X_NjG-IIreB3",
        "outputId": "60e275fe-4d1d-4ffe-a08d-1ff45ab8daf4"
      },
      "outputs": [
        {
          "name": "stderr",
          "output_type": "stream",
          "text": [
            "/home/hub/COURSERA/NLP/nlp/lib/python3.12/site-packages/keras/src/layers/core/embedding.py:90: UserWarning: Argument `input_length` is deprecated. Just remove it.\n",
            "  warnings.warn(\n"
          ]
        },
        {
          "data": {
            "text/html": [
              "<pre style=\"white-space:pre;overflow-x:auto;line-height:normal;font-family:Menlo,'DejaVu Sans Mono',consolas,'Courier New',monospace\"><span style=\"font-weight: bold\">Model: \"sequential\"</span>\n",
              "</pre>\n"
            ],
            "text/plain": [
              "\u001b[1mModel: \"sequential\"\u001b[0m\n"
            ]
          },
          "metadata": {},
          "output_type": "display_data"
        },
        {
          "data": {
            "text/html": [
              "<pre style=\"white-space:pre;overflow-x:auto;line-height:normal;font-family:Menlo,'DejaVu Sans Mono',consolas,'Courier New',monospace\">┏━━━━━━━━━━━━━━━━━━━━━━━━━━━━━━━━━┳━━━━━━━━━━━━━━━━━━━━━━━━┳━━━━━━━━━━━━━━━┓\n",
              "┃<span style=\"font-weight: bold\"> Layer (type)                    </span>┃<span style=\"font-weight: bold\"> Output Shape           </span>┃<span style=\"font-weight: bold\">       Param # </span>┃\n",
              "┡━━━━━━━━━━━━━━━━━━━━━━━━━━━━━━━━━╇━━━━━━━━━━━━━━━━━━━━━━━━╇━━━━━━━━━━━━━━━┩\n",
              "│ embedding (<span style=\"color: #0087ff; text-decoration-color: #0087ff\">Embedding</span>)           │ (<span style=\"color: #00d7ff; text-decoration-color: #00d7ff\">None</span>, <span style=\"color: #00af00; text-decoration-color: #00af00\">50</span>, <span style=\"color: #00af00; text-decoration-color: #00af00\">100</span>)        │     <span style=\"color: #00af00; text-decoration-color: #00af00\">1,500,100</span> │\n",
              "├─────────────────────────────────┼────────────────────────┼───────────────┤\n",
              "│ conv1d (<span style=\"color: #0087ff; text-decoration-color: #0087ff\">Conv1D</span>)                 │ (<span style=\"color: #00d7ff; text-decoration-color: #00d7ff\">None</span>, <span style=\"color: #00af00; text-decoration-color: #00af00\">15</span>, <span style=\"color: #00af00; text-decoration-color: #00af00\">128</span>)        │        <span style=\"color: #00af00; text-decoration-color: #00af00\">89,728</span> │\n",
              "├─────────────────────────────────┼────────────────────────┼───────────────┤\n",
              "│ conv1d_1 (<span style=\"color: #0087ff; text-decoration-color: #0087ff\">Conv1D</span>)               │ (<span style=\"color: #00d7ff; text-decoration-color: #00d7ff\">None</span>, <span style=\"color: #00af00; text-decoration-color: #00af00\">3</span>, <span style=\"color: #00af00; text-decoration-color: #00af00\">128</span>)         │       <span style=\"color: #00af00; text-decoration-color: #00af00\">114,816</span> │\n",
              "├─────────────────────────────────┼────────────────────────┼───────────────┤\n",
              "│ global_max_pooling1d            │ (<span style=\"color: #00d7ff; text-decoration-color: #00d7ff\">None</span>, <span style=\"color: #00af00; text-decoration-color: #00af00\">128</span>)            │             <span style=\"color: #00af00; text-decoration-color: #00af00\">0</span> │\n",
              "│ (<span style=\"color: #0087ff; text-decoration-color: #0087ff\">GlobalMaxPooling1D</span>)            │                        │               │\n",
              "├─────────────────────────────────┼────────────────────────┼───────────────┤\n",
              "│ dense (<span style=\"color: #0087ff; text-decoration-color: #0087ff\">Dense</span>)                   │ (<span style=\"color: #00d7ff; text-decoration-color: #00d7ff\">None</span>, <span style=\"color: #00af00; text-decoration-color: #00af00\">128</span>)            │        <span style=\"color: #00af00; text-decoration-color: #00af00\">16,512</span> │\n",
              "├─────────────────────────────────┼────────────────────────┼───────────────┤\n",
              "│ dropout (<span style=\"color: #0087ff; text-decoration-color: #0087ff\">Dropout</span>)               │ (<span style=\"color: #00d7ff; text-decoration-color: #00d7ff\">None</span>, <span style=\"color: #00af00; text-decoration-color: #00af00\">128</span>)            │             <span style=\"color: #00af00; text-decoration-color: #00af00\">0</span> │\n",
              "├─────────────────────────────────┼────────────────────────┼───────────────┤\n",
              "│ dense_1 (<span style=\"color: #0087ff; text-decoration-color: #0087ff\">Dense</span>)                 │ (<span style=\"color: #00d7ff; text-decoration-color: #00d7ff\">None</span>, <span style=\"color: #00af00; text-decoration-color: #00af00\">1</span>)              │           <span style=\"color: #00af00; text-decoration-color: #00af00\">129</span> │\n",
              "└─────────────────────────────────┴────────────────────────┴───────────────┘\n",
              "</pre>\n"
            ],
            "text/plain": [
              "┏━━━━━━━━━━━━━━━━━━━━━━━━━━━━━━━━━┳━━━━━━━━━━━━━━━━━━━━━━━━┳━━━━━━━━━━━━━━━┓\n",
              "┃\u001b[1m \u001b[0m\u001b[1mLayer (type)                   \u001b[0m\u001b[1m \u001b[0m┃\u001b[1m \u001b[0m\u001b[1mOutput Shape          \u001b[0m\u001b[1m \u001b[0m┃\u001b[1m \u001b[0m\u001b[1m      Param #\u001b[0m\u001b[1m \u001b[0m┃\n",
              "┡━━━━━━━━━━━━━━━━━━━━━━━━━━━━━━━━━╇━━━━━━━━━━━━━━━━━━━━━━━━╇━━━━━━━━━━━━━━━┩\n",
              "│ embedding (\u001b[38;5;33mEmbedding\u001b[0m)           │ (\u001b[38;5;45mNone\u001b[0m, \u001b[38;5;34m50\u001b[0m, \u001b[38;5;34m100\u001b[0m)        │     \u001b[38;5;34m1,500,100\u001b[0m │\n",
              "├─────────────────────────────────┼────────────────────────┼───────────────┤\n",
              "│ conv1d (\u001b[38;5;33mConv1D\u001b[0m)                 │ (\u001b[38;5;45mNone\u001b[0m, \u001b[38;5;34m15\u001b[0m, \u001b[38;5;34m128\u001b[0m)        │        \u001b[38;5;34m89,728\u001b[0m │\n",
              "├─────────────────────────────────┼────────────────────────┼───────────────┤\n",
              "│ conv1d_1 (\u001b[38;5;33mConv1D\u001b[0m)               │ (\u001b[38;5;45mNone\u001b[0m, \u001b[38;5;34m3\u001b[0m, \u001b[38;5;34m128\u001b[0m)         │       \u001b[38;5;34m114,816\u001b[0m │\n",
              "├─────────────────────────────────┼────────────────────────┼───────────────┤\n",
              "│ global_max_pooling1d            │ (\u001b[38;5;45mNone\u001b[0m, \u001b[38;5;34m128\u001b[0m)            │             \u001b[38;5;34m0\u001b[0m │\n",
              "│ (\u001b[38;5;33mGlobalMaxPooling1D\u001b[0m)            │                        │               │\n",
              "├─────────────────────────────────┼────────────────────────┼───────────────┤\n",
              "│ dense (\u001b[38;5;33mDense\u001b[0m)                   │ (\u001b[38;5;45mNone\u001b[0m, \u001b[38;5;34m128\u001b[0m)            │        \u001b[38;5;34m16,512\u001b[0m │\n",
              "├─────────────────────────────────┼────────────────────────┼───────────────┤\n",
              "│ dropout (\u001b[38;5;33mDropout\u001b[0m)               │ (\u001b[38;5;45mNone\u001b[0m, \u001b[38;5;34m128\u001b[0m)            │             \u001b[38;5;34m0\u001b[0m │\n",
              "├─────────────────────────────────┼────────────────────────┼───────────────┤\n",
              "│ dense_1 (\u001b[38;5;33mDense\u001b[0m)                 │ (\u001b[38;5;45mNone\u001b[0m, \u001b[38;5;34m1\u001b[0m)              │           \u001b[38;5;34m129\u001b[0m │\n",
              "└─────────────────────────────────┴────────────────────────┴───────────────┘\n"
            ]
          },
          "metadata": {},
          "output_type": "display_data"
        },
        {
          "data": {
            "text/html": [
              "<pre style=\"white-space:pre;overflow-x:auto;line-height:normal;font-family:Menlo,'DejaVu Sans Mono',consolas,'Courier New',monospace\"><span style=\"font-weight: bold\"> Total params: </span><span style=\"color: #00af00; text-decoration-color: #00af00\">1,721,285</span> (6.57 MB)\n",
              "</pre>\n"
            ],
            "text/plain": [
              "\u001b[1m Total params: \u001b[0m\u001b[38;5;34m1,721,285\u001b[0m (6.57 MB)\n"
            ]
          },
          "metadata": {},
          "output_type": "display_data"
        },
        {
          "data": {
            "text/html": [
              "<pre style=\"white-space:pre;overflow-x:auto;line-height:normal;font-family:Menlo,'DejaVu Sans Mono',consolas,'Courier New',monospace\"><span style=\"font-weight: bold\"> Trainable params: </span><span style=\"color: #00af00; text-decoration-color: #00af00\">1,721,285</span> (6.57 MB)\n",
              "</pre>\n"
            ],
            "text/plain": [
              "\u001b[1m Trainable params: \u001b[0m\u001b[38;5;34m1,721,285\u001b[0m (6.57 MB)\n"
            ]
          },
          "metadata": {},
          "output_type": "display_data"
        },
        {
          "data": {
            "text/html": [
              "<pre style=\"white-space:pre;overflow-x:auto;line-height:normal;font-family:Menlo,'DejaVu Sans Mono',consolas,'Courier New',monospace\"><span style=\"font-weight: bold\"> Non-trainable params: </span><span style=\"color: #00af00; text-decoration-color: #00af00\">0</span> (0.00 B)\n",
              "</pre>\n"
            ],
            "text/plain": [
              "\u001b[1m Non-trainable params: \u001b[0m\u001b[38;5;34m0\u001b[0m (0.00 B)\n"
            ]
          },
          "metadata": {},
          "output_type": "display_data"
        }
      ],
      "source": [
        "import tensorflow as tf\n",
        "from tensorflow.keras import layers\n",
        "\n",
        "# Definindo o número de palavras e a dimensão dos embeddings\n",
        "vocab_size = max_features + 1  # Incluímos +1 para lidar com tokens <PAD> e <OOV>\n",
        "embedding_dim = 100  # Você pode ajustar a dimensão dos embeddings conforme necessário\n",
        "input_length = max_len  # O comprimento de cada sequência (número fixo de tokens)\n",
        "\n",
        "# Definindo o modelo\n",
        "model = tf.keras.Sequential([\n",
        "    # Camada de Input\n",
        "    layers.Input(shape=(input_length,)),\n",
        "\n",
        "    # Camada de Embedding\n",
        "    layers.Embedding(input_dim=vocab_size,\n",
        "                     output_dim=embedding_dim,\n",
        "                     input_length=input_length),\n",
        "\n",
        "    # Conv1D + Global Max Pooling\n",
        "    layers.Conv1D(128, 7, padding='valid', activation='relu', strides=3),\n",
        "    layers.Conv1D(128, 7, padding='valid', activation='relu', strides=3),\n",
        "    layers.GlobalMaxPooling1D(),\n",
        "\n",
        "    # Camadas densas para classificação\n",
        "    layers.Dense(128, activation='relu'),\n",
        "    layers.Dropout(0.5),\n",
        "    layers.Dense(1, activation='sigmoid')  # Sigmoid para classificação binária\n",
        "])\n",
        "\n",
        "# Compilando o modelo\n",
        "model.compile(optimizer='adam',\n",
        "              loss='binary_crossentropy',  # Classificação binária\n",
        "              metrics=['accuracy'])  # Registrando acurácia\n",
        "\n",
        "# Resumo do modelo\n",
        "model.summary()"
      ]
    },
    {
      "cell_type": "markdown",
      "metadata": {
        "id": "bH_Ot52-reB4"
      },
      "source": [
        "### Treinando e avaliando seu modelo\n",
        "\n",
        "##  <font color='blue'>Questão 5 </font>\n",
        "\n",
        "Com seu modelo definido, treine e avalie sua performance no conjunto de testes.\n",
        "\n"
      ]
    },
    {
      "cell_type": "code",
      "execution_count": 10,
      "metadata": {
        "colab": {
          "base_uri": "https://localhost:8080/"
        },
        "id": "WSjoUcuTreB4",
        "outputId": "36ef4a93-2601-468b-f571-e0ddc59a1530"
      },
      "outputs": [
        {
          "name": "stdout",
          "output_type": "stream",
          "text": [
            "Epoch 1/5\n",
            "\u001b[1m235/235\u001b[0m \u001b[32m━━━━━━━━━━━━━━━━━━━━\u001b[0m\u001b[37m\u001b[0m \u001b[1m4s\u001b[0m 16ms/step - accuracy: 0.9942 - loss: 0.0162 - val_accuracy: 0.8752 - val_loss: 0.5954\n",
            "Epoch 2/5\n",
            "\u001b[1m235/235\u001b[0m \u001b[32m━━━━━━━━━━━━━━━━━━━━\u001b[0m\u001b[37m\u001b[0m \u001b[1m4s\u001b[0m 17ms/step - accuracy: 0.9980 - loss: 0.0079 - val_accuracy: 0.8768 - val_loss: 0.6823\n",
            "Epoch 3/5\n",
            "\u001b[1m235/235\u001b[0m \u001b[32m━━━━━━━━━━━━━━━━━━━━\u001b[0m\u001b[37m\u001b[0m \u001b[1m4s\u001b[0m 16ms/step - accuracy: 0.9975 - loss: 0.0065 - val_accuracy: 0.8596 - val_loss: 1.0420\n",
            "Epoch 4/5\n",
            "\u001b[1m235/235\u001b[0m \u001b[32m━━━━━━━━━━━━━━━━━━━━\u001b[0m\u001b[37m\u001b[0m \u001b[1m4s\u001b[0m 16ms/step - accuracy: 0.9968 - loss: 0.0095 - val_accuracy: 0.8608 - val_loss: 0.9144\n",
            "Epoch 5/5\n",
            "\u001b[1m235/235\u001b[0m \u001b[32m━━━━━━━━━━━━━━━━━━━━\u001b[0m\u001b[37m\u001b[0m \u001b[1m3s\u001b[0m 15ms/step - accuracy: 0.9977 - loss: 0.0082 - val_accuracy: 0.8372 - val_loss: 1.1258\n"
          ]
        }
      ],
      "source": [
        "history = model.fit(X_train_vectorized, y_train, epochs=5, batch_size=32, validation_data=(X_test_vectorized, y_test))"
      ]
    },
    {
      "cell_type": "code",
      "execution_count": 11,
      "metadata": {},
      "outputs": [
        {
          "name": "stdout",
          "output_type": "stream",
          "text": [
            "\u001b[1m79/79\u001b[0m \u001b[32m━━━━━━━━━━━━━━━━━━━━\u001b[0m\u001b[37m\u001b[0m \u001b[1m0s\u001b[0m 1ms/step - accuracy: 0.8405 - loss: 1.0954\n",
            "Acurácia no conjunto de teste: 0.8371999859809875\n"
          ]
        }
      ],
      "source": [
        "test_loss, test_accuracy = model.evaluate(X_test_vectorized, y_test)\n",
        "print(f\"Acurácia no conjunto de teste: {test_accuracy}\")"
      ]
    },
    {
      "cell_type": "markdown",
      "metadata": {
        "id": "VAGJldgareB4"
      },
      "source": [
        "##  <font color='green'>Questão Extra </font>\n",
        "\n",
        "### Vizualizando o embedding\n",
        "Agora que temos um embedding treinado em nossa tarefa de analise de sentimentos, podemos tentar vizualisar este embedding. O [embedding projector](https://projector.tensorflow.org/) nos permite visualiza-los de maneira mais intuitiva.\n",
        "\n",
        "Para carregar seu próprio embedding você precisará fornecer 2 arquivos, um com os embeddings propriamente ditos e outro com os métadados (no nosso caso, um string que representa a palavra).\n"
      ]
    },
    {
      "cell_type": "markdown",
      "metadata": {
        "id": "TZh5j8Oevb_1"
      },
      "source": [
        "![image.png](data:image/png;base64,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)"
      ]
    },
    {
      "cell_type": "markdown",
      "metadata": {
        "id": "xp6jBS-avgMl"
      },
      "source": [
        "Esse [guia](https://www.tensorflow.org/tensorboard/tensorboard_projector_plugin) pode ser util para entender melhor como extrair essas informações."
      ]
    },
    {
      "cell_type": "markdown",
      "metadata": {
        "id": "Ts61E0jzreB5"
      },
      "source": [
        "Procure por palavras com conotações tradicionalmente positivas e negativas, elas estão proximas ou distantes?\n",
        "Usando a visualização PCA, você consegue notar alguma característica interessante sobre como as palavras estão distribuidas nesse espaço?"
      ]
    },
    {
      "cell_type": "code",
      "execution_count": 14,
      "metadata": {},
      "outputs": [],
      "source": [
        "# Caminhos dos arquivos TSV para salvar os embeddings e metadados\n",
        "embedding_file_path = 'embedding_vectors.tsv'\n",
        "metadata_file_path = 'embedding_metadata.tsv'\n",
        "\n",
        "# Obter os pesos da camada de embedding do modelo treinado\n",
        "embedding_weights = model.layers[0].get_weights()[0]\n",
        "\n",
        "# Obter o vocabulário da camada TextVectorization\n",
        "vocab = vectorize_layer.get_vocabulary()  # Retorna a lista de palavras no vocabulário\n",
        "word_index = {word: index for index, word in enumerate(vocab)}\n",
        "\n",
        "# Escrever os embeddings e os metadados nos arquivos TSV\n",
        "with open(embedding_file_path, 'w', encoding='utf-8') as f_vectors, open(metadata_file_path, 'w', encoding='utf-8') as f_metadata:\n",
        "    for word, i in word_index.items():\n",
        "        if i < len(embedding_weights):  # Verifica se o índice i está dentro dos limites da matriz de embeddings\n",
        "            embedding_vector = embedding_weights[i]\n",
        "            if embedding_vector is not None:\n",
        "                # Escreve os vetores de embedding no arquivo\n",
        "                f_vectors.write('\\t'.join([str(x) for x in embedding_vector]) + '\\n')\n",
        "                # Escreve as palavras correspondentes no arquivo de metadados\n",
        "                f_metadata.write(word + '\\n')\n",
        "        else:\n",
        "            print(f\"Ignorando o índice {i}, fora dos limites da matriz de embeddings.\")"
      ]
    },
    {
      "cell_type": "code",
      "execution_count": 15,
      "metadata": {},
      "outputs": [
        {
          "data": {
            "image/png": "[encoded data removed]",
            "text/plain": [
              "<Figure size 1000x600 with 1 Axes>"
            ]
          },
          "metadata": {},
          "output_type": "display_data"
        }
      ],
      "source": [
        "from sklearn.decomposition import PCA\n",
        "\n",
        "# Definir as palavras e seus respectivos vetores de embeddings (já extraídos)\n",
        "palavras_positivas = ['bom', 'excelente', 'ótimo', 'feliz', 'alegria']\n",
        "palavras_negativas = ['ruim', 'horrível', 'péssimo', 'triste']\n",
        "\n",
        "# Embeddings das palavras (substitua pelos embeddings reais)\n",
        "vetores_positivos = [embedding_weights[word_index[word]] for word in palavras_positivas]\n",
        "vetores_negativos = [embedding_weights[word_index[word]] for word in palavras_negativas]\n",
        "\n",
        "# Juntar os vetores\n",
        "vetores = np.array(vetores_positivos + vetores_negativos)\n",
        "\n",
        "# Aplicar PCA para reduzir para 2D\n",
        "pca = PCA(n_components=2)\n",
        "vetores_reduzidos = pca.fit_transform(vetores)\n",
        "\n",
        "# Separar os vetores reduzidos em positivos e negativos\n",
        "vetores_positivos_reduzidos = vetores_reduzidos[:len(vetores_positivos)]\n",
        "vetores_negativos_reduzidos = vetores_reduzidos[len(vetores_positivos):]\n",
        "\n",
        "# Plotar os resultados\n",
        "plt.figure(figsize=(10, 6))\n",
        "plt.scatter(vetores_positivos_reduzidos[:, 0], vetores_positivos_reduzidos[:, 1], color='green', label='Positivas')\n",
        "plt.scatter(vetores_negativos_reduzidos[:, 0], vetores_negativos_reduzidos[:, 1], color='red', label='Negativas')\n",
        "\n",
        "# Adicionar labels para as palavras\n",
        "for i, word in enumerate(palavras_positivas):\n",
        "    plt.text(vetores_positivos_reduzidos[i, 0] + 0.01, vetores_positivos_reduzidos[i, 1], word, fontsize=12)\n",
        "for i, word in enumerate(palavras_negativas):\n",
        "    plt.text(vetores_negativos_reduzidos[i, 0] + 0.01, vetores_negativos_reduzidos[i, 1], word, fontsize=12)\n",
        "\n",
        "# Configurações do gráfico\n",
        "plt.title('Visualização de Embeddings (PCA)', fontsize=16)\n",
        "plt.xlabel('Componente Principal 1', fontsize=12)\n",
        "plt.ylabel('Componente Principal 2', fontsize=12)\n",
        "plt.legend(fontsize=12)\n",
        "plt.grid(True)\n",
        "\n",
        "# Mostrar o gráfico\n",
        "plt.show()"
      ]
    },
    {
      "cell_type": "markdown",
      "metadata": {},
      "source": [
        "**Conclusão:**\n",
        "O modelo conseguiu capturar as relações semânticas entre palavras de conotações semelhantes. Palavras positivas estão agrupadas e separadas das palavras negativas no espaço de embeddings, o que é um bom indicador de que o modelo aprendeu a diferenciar corretamente o significado das palavras com base em sua polaridade emocional."
      ]
    }
  ],
  "metadata": {
    "colab": {
      "name": "Copy of 03 - Embeddings.ipynb",
      "provenance": []
    },
    "kernelspec": {
      "display_name": "nlp",
      "language": "python",
      "name": "python3"
    },
    "language_info": {
      "codemirror_mode": {
        "name": "ipython",
        "version": 3
      },
      "file_extension": ".py",
      "mimetype": "text/x-python",
      "name": "python",
      "nbconvert_exporter": "python",
      "pygments_lexer": "ipython3",
      "version": "3.12.3"
    }
  },
  "nbformat": 4,
  "nbformat_minor": 0
}
